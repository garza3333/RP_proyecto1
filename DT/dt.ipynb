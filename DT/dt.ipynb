{
 "cells": [
  {
   "attachments": {},
   "cell_type": "markdown",
   "metadata": {},
   "source": [
    "# Decision Tree"
   ]
  },
  {
   "cell_type": "code",
   "execution_count": 44,
   "metadata": {},
   "outputs": [],
   "source": [
    "# Calling the scikit learn datasets of forest covertypes\n",
    "import pandas as pd\n",
    "from sklearn.datasets import load_breast_cancer\n",
    "from sklearn.utils import Bunch\n",
    "import time\n",
    "pd.set_option('display.max_rows', None)  # Mostrar todas las filas\n",
    "pd.set_option('display.max_columns', None)  # Mostrar todas las columnas\n",
    "pd.set_option('display.width', None)  # No truncar las columnas"
   ]
  },
  {
   "attachments": {},
   "cell_type": "markdown",
   "metadata": {},
   "source": [
    "## Best features got with sklearn feature_importance_ atribute using treeclassification"
   ]
  },
  {
   "cell_type": "code",
   "execution_count": 45,
   "metadata": {},
   "outputs": [],
   "source": [
    "best_f = ['mean concave points', 'texture error', 'concave points error', 'symmetry error', 'worst texture', 'worst perimeter', 'worst area', 'worst smoothness', 'worst compactness', 'worst concave points', 'worst fractal dimension']"
   ]
  },
  {
   "attachments": {},
   "cell_type": "markdown",
   "metadata": {},
   "source": [
    "### Apliying feature engineering and selecting features on tree different datasets"
   ]
  },
  {
   "attachments": {},
   "cell_type": "markdown",
   "metadata": {},
   "source": [
    "# Breast Cancer"
   ]
  },
  {
   "cell_type": "code",
   "execution_count": 46,
   "metadata": {},
   "outputs": [
    {
     "name": "stdout",
     "output_type": "stream",
     "text": [
      "['mean texture', 'mean area', 'mean concavity', 'mean concave points', 'mean symmetry']\n",
      "['texture error', 'area error', 'concavity error', 'concave points error', 'symmetry error']\n",
      "['worst texture', 'worst area', 'worst concavity', 'worst concave points', 'worst symmetry']\n"
     ]
    }
   ],
   "source": [
    "breast_cancer = load_breast_cancer()\n",
    "\n",
    "df = pd.DataFrame(breast_cancer.data, columns=breast_cancer.feature_names)\n",
    "\n",
    "mean = breast_cancer.feature_names[0:10]\n",
    "error = breast_cancer.feature_names[10:20]\n",
    "worst = breast_cancer.feature_names[20:30]\n",
    "features = breast_cancer.feature_names\n",
    "\n",
    "# Most important features in a cancer cell\n",
    "# * concavity, area, texture, symetry, concave points\n",
    "\n",
    "print([mean[1]]+[mean[3]]+list(mean[6:9]))\n",
    "print([error[1]]+[error[3]]+list(error[6:9]))\n",
    "print([worst[1]]+[worst[3]]+list(worst[6:9]))\n",
    "\n",
    "feat1 = [mean[1]]+[mean[3]]+list(mean[6:9])\n",
    "feat2 = [error[1]]+[error[3]]+list(error[6:9])\n",
    "feat3 = [worst[1]]+[worst[3]]+list(worst[6:9])\n",
    "\n",
    "feat_selected = feat1+feat2+feat3\n",
    "# Change feature scope to the 5 important features\n",
    "#df = df[feat_selected]\n",
    "\n",
    "# Change feature scope to the important features got with sklearn treeclassification\n",
    "#df = df[best_f]\n",
    "\n",
    "data_dict = {'data': df.values, 'target': breast_cancer.target, 'feature_names': df.columns, 'target_names': breast_cancer.target_names}\n",
    "\n",
    "breast_cancer = Bunch(**data_dict)"
   ]
  },
  {
   "attachments": {},
   "cell_type": "markdown",
   "metadata": {},
   "source": [
    "# Selecting Data Set"
   ]
  },
  {
   "cell_type": "code",
   "execution_count": 47,
   "metadata": {},
   "outputs": [],
   "source": [
    "def switch_case(argument):\n",
    "    switcher = {\n",
    "        0: breast_cancer,\n",
    "        1: \"second bunch\",\n",
    "        2: \"third bunch\"\n",
    "    }\n",
    "    return switcher.get(argument, \"Invalid option\")\n",
    "\n",
    "selected_bunch = switch_case(0)\n",
    "\n",
    "x = breast_cancer.data\n",
    "y = breast_cancer.target"
   ]
  },
  {
   "attachments": {},
   "cell_type": "markdown",
   "metadata": {},
   "source": [
    "# Grid Search"
   ]
  },
  {
   "cell_type": "code",
   "execution_count": 48,
   "metadata": {},
   "outputs": [],
   "source": [
    "from sklearn.model_selection import train_test_split\n",
    "X_train, X_test, y_train, y_test = train_test_split(x, y, test_size=0.30, random_state=45)"
   ]
  },
  {
   "cell_type": "code",
   "execution_count": 49,
   "metadata": {},
   "outputs": [
    {
     "name": "stdout",
     "output_type": "stream",
     "text": [
      "{'max_depth': 15}\n",
      "0.9197151898734177\n"
     ]
    }
   ],
   "source": [
    "from sklearn.model_selection import GridSearchCV\n",
    "from sklearn.tree import DecisionTreeClassifier as dt_classifier\n",
    "\n",
    "param_grid = {'max_depth':[5,10,12,15,17,20,30]}\n",
    "tree = dt_classifier()\n",
    "grid_search = GridSearchCV(estimator=tree,param_grid=param_grid,scoring=\"accuracy\",cv=5)\n",
    "grid_search.fit(X_train,y_train)\n",
    "best_params = grid_search.best_params_\n",
    "best_score = grid_search.best_score_\n",
    "print(best_params)\n",
    "print(best_score)"
   ]
  },
  {
   "attachments": {},
   "cell_type": "markdown",
   "metadata": {},
   "source": [
    "# Decision Tree Implemented"
   ]
  },
  {
   "cell_type": "code",
   "execution_count": 50,
   "metadata": {},
   "outputs": [],
   "source": [
    "import math\n",
    "import numpy as np\n",
    "from pprint import pprint\n",
    "from sklearn.model_selection import train_test_split\n",
    "\n",
    "def entropy_func(c, n):\n",
    "    return -(c*1.0/n)*math.log(c*1.0/n, 2)\n",
    "\n",
    "def entropy_cal(c1, c2):\n",
    "    #entropy between class 1 and 2\n",
    "    if c1== 0 or c2 == 0:  # when there is only one class in the group, entropy is 0\n",
    "        return 0\n",
    "    return entropy_func(c1, c1+c2) + entropy_func(c2, c1+c2)\n",
    "\n",
    "# One versus All\n",
    "# c1,c2,c3, .., cm\n",
    "# c1, *\n",
    "# c2, *\n",
    "# c3, *\n",
    "# ...\n",
    "# cm, *\n",
    "\n",
    "#each class versus the others\n",
    "def entropy_of_one_division(division): \n",
    "    s = 0\n",
    "    n = len(division)\n",
    "    classes = set(division)\n",
    "    for c in classes:   # for each class, get entropy\n",
    "        n_c = sum(division==c)\n",
    "        e = n_c*1.0/n * entropy_cal(sum(division==c), sum(division!=c)) # weighted avg\n",
    "        s += e\n",
    "    return s, n\n",
    "\n",
    "# The whole entropy\n",
    "def get_entropy(y_predict, y_real):\n",
    "    if len(y_predict) != len(y_real):\n",
    "        print('They have to be the same length')\n",
    "        return None\n",
    "    n = len(y_real)\n",
    "    s_true, n_true = entropy_of_one_division(y_real[y_predict]) # left hand side entropy\n",
    "    s_false, n_false = entropy_of_one_division(y_real[~y_predict]) # right hand side entropy\n",
    "    s = n_true*1.0/n * s_true + n_false*1.0/n * s_false # overall entropy, again weighted average\n",
    "    return s\n",
    "\n",
    "\n",
    "\n",
    "class DecisionTreeClassifier(object):\n",
    "    def __init__(self, max_depth,bunch):\n",
    "        self.depth = 0\n",
    "        self.bunch = bunch\n",
    "        self.max_depth = max_depth\n",
    "    \n",
    "    def fit(self, x, y, par_node={}, depth=0):\n",
    "        if par_node is None: \n",
    "            return None\n",
    "        elif len(y) == 0:\n",
    "            return None\n",
    "        elif self.all_same(y):\n",
    "            return {'val':y[0]}\n",
    "        elif depth >= self.max_depth:\n",
    "            return None\n",
    "        else: \n",
    "            col, cutoff, entropy = self.find_best_split_of_all(x, y)    # find one split given an information gain \n",
    "            y_left = y[x[:, col] < cutoff]\n",
    "            y_right = y[x[:, col] >= cutoff]\n",
    "            par_node = {'col': self.bunch.feature_names[col], 'index_col':col,\n",
    "                        'cutoff':cutoff,\n",
    "                       'val': np.round(np.mean(y))}\n",
    "            par_node['left'] = self.fit(x[x[:, col] < cutoff], y_left, {}, depth+1)\n",
    "            par_node['right'] = self.fit(x[x[:, col] >= cutoff], y_right, {}, depth+1)\n",
    "            self.depth += 1 \n",
    "            self.trees = par_node\n",
    "            return par_node\n",
    "    \n",
    "    #all features versus values, get best\n",
    "    def find_best_split_of_all(self, x, y):\n",
    "        #print(x.shape, y.shape)\n",
    "        col = None\n",
    "        min_entropy = 1\n",
    "        cutoff = None\n",
    "        for i, c in enumerate(x.T):\n",
    "            entropy, cur_cutoff = self.find_best_split(c, y)\n",
    "            if entropy == 0:    # find the first perfect cutoff. Stop Iterating\n",
    "                return i, cur_cutoff, entropy\n",
    "            elif entropy <= min_entropy:\n",
    "                min_entropy = entropy\n",
    "                col = i\n",
    "                cutoff = cur_cutoff\n",
    "        return col, cutoff, min_entropy\n",
    "    \n",
    "    #one feature versus values\n",
    "    def find_best_split(self, col, y):\n",
    "        min_entropy = 10\n",
    "        n = len(y)\n",
    "        for value in set(col):\n",
    "            y_predict = col < value #get which ones are less than\n",
    "            my_entropy = get_entropy(y_predict, y)\n",
    "            if my_entropy <= min_entropy:\n",
    "                min_entropy = my_entropy\n",
    "                cutoff = value\n",
    "        return min_entropy, cutoff\n",
    "    \n",
    "    def all_same(self, items):\n",
    "        return all(x == items[0] for x in items)\n",
    "                                           \n",
    "    def predict(self, x):\n",
    "        tree = self.trees\n",
    "        results = np.array([0]*len(x))\n",
    "        for i, c in enumerate(x):\n",
    "            results[i] = self._get_prediction(c)\n",
    "        return results\n",
    "    \n",
    "    def _get_prediction(self, row):\n",
    "        cur_layer = self.trees\n",
    "        while cur_layer.get('cutoff'):\n",
    "            if row[cur_layer['index_col']] < cur_layer['cutoff']:\n",
    "                cur_layer = cur_layer['left']\n",
    "            else:\n",
    "                cur_layer = cur_layer['right']\n",
    "        else:\n",
    "            return cur_layer.get('val')"
   ]
  },
  {
   "attachments": {},
   "cell_type": "markdown",
   "metadata": {},
   "source": [
    "# Functions"
   ]
  },
  {
   "cell_type": "code",
   "execution_count": 51,
   "metadata": {},
   "outputs": [],
   "source": [
    "def reverse_y_pred(y_pred):\n",
    "    y_pred_reverse = y_pred\n",
    "    for i in range(len(y_pred)):\n",
    "        if y_pred_reverse[i] == 0:\n",
    "            y_pred_reverse[i] = 1\n",
    "        else:\n",
    "            y_pred_reverse[i] = 0\n",
    "    return y_pred_reverse\n",
    "\n",
    "def fp_fn(y_pred_r,y_test):\n",
    "    fp = 0\n",
    "    fn = 0\n",
    "    for i in range(len(y_test)):\n",
    "        if y_pred_r[i] == y_test[i] == 1:\n",
    "            fn += 1\n",
    "        elif y_pred_r[i] == y_test[i] == 0:\n",
    "            fp += 1\n",
    "    return fp,fn"
   ]
  },
  {
   "attachments": {},
   "cell_type": "markdown",
   "metadata": {},
   "source": [
    "# Accuracy"
   ]
  },
  {
   "cell_type": "code",
   "execution_count": 52,
   "metadata": {},
   "outputs": [],
   "source": [
    "def my_accuracy(y_pred,y_pred_sklearn_dt,y_test):\n",
    "    y_pred_list = list(y_pred)\n",
    "    y_pred_r = reverse_y_pred(y_pred_list)\n",
    "\n",
    "    fp,fn = fp_fn(y_pred_r,list(y_test))\n",
    "    tp = y_pred_list.count(0)\n",
    "    tn = y_pred_list.count(1)\n",
    "    accuracy = (tp+tn)/(tp+tn+fp+fn)\n",
    "\n",
    "\n",
    "    y_pred_sklearn_dt_list = list(y_pred_sklearn_dt)\n",
    "    y_pred_scrlearn_dt_r = reverse_y_pred(y_pred_sklearn_dt)\n",
    "\n",
    "    fp_sklearn_dt,fn_sklearn_dt = fp_fn(y_pred_scrlearn_dt_r,y_test)\n",
    "    tp_sklearn_dt = y_pred_sklearn_dt_list.count(0)\n",
    "    tn_sklearn_dt = y_pred_sklearn_dt_list.count(1)\n",
    "    div_sklearn_dt = (tp_sklearn_dt+tn_sklearn_dt+fp_sklearn_dt+fn_sklearn_dt)\n",
    "    accuracy_sklearn_dt = (tp_sklearn_dt+tn_sklearn_dt)/div_sklearn_dt\n",
    "    return accuracy,accuracy_sklearn_dt\n",
    "\n",
    "# accuracy,accuracy_sklearn_dt = my_accuracy(y_pred,y_pred_sklearn_dt,y_test)\n",
    "# pd.DataFrame([[accuracy, accuracy_sklearn_dt]],\n",
    "            #['accuracy'],    \n",
    "            #['Our Implementation', 'Sklearn\\'s Implementation'])"
   ]
  },
  {
   "attachments": {},
   "cell_type": "markdown",
   "metadata": {},
   "source": [
    "# Precision"
   ]
  },
  {
   "cell_type": "code",
   "execution_count": 53,
   "metadata": {},
   "outputs": [],
   "source": [
    "def my_precision(y_pred,y_pred_sklearn_dt,y_test):\n",
    "    y_pred_list = list(y_pred)\n",
    "    y_pred_r = reverse_y_pred(y_pred_list)\n",
    "    fp,fn = fp_fn(y_pred_r,list(y_test))\n",
    "    tp = y_pred_list.count(0)\n",
    "    tn = y_pred_list.count(1)\n",
    "\n",
    "    y_pred_sklearn_dt_list = list(y_pred_sklearn_dt)\n",
    "    y_pred_scrlearn_dt_r = reverse_y_pred(y_pred_sklearn_dt)\n",
    "\n",
    "    fp_sklearn_dt,fn_sklearn_dt = fp_fn(y_pred_scrlearn_dt_r,y_test)\n",
    "    tp_sklearn_dt = y_pred_sklearn_dt_list.count(0)\n",
    "    tn_sklearn_dt = y_pred_sklearn_dt_list.count(1)\n",
    "\n",
    "    precision = tp/(tp+fp)\n",
    "    precision_sklearn_dt = tp_sklearn_dt/(tp_sklearn_dt+fp_sklearn_dt)\n",
    "\n",
    "    return precision,precision_sklearn_dt\n",
    "# precision,precision_sklearn_dt = my_precision(y_pred,y_pred_sklearn_dt,y_test)\n",
    "# pd.DataFrame([[precision, precision_sklearn_dt]],\n",
    "#             ['Precision'],    \n",
    "#             ['Our Implementation', 'Sklearn\\'s Implementation'])"
   ]
  },
  {
   "attachments": {},
   "cell_type": "markdown",
   "metadata": {},
   "source": [
    "# Recall"
   ]
  },
  {
   "cell_type": "code",
   "execution_count": 54,
   "metadata": {},
   "outputs": [],
   "source": [
    "def my_recall(y_pred,y_pred_sklearn_dt,y_test):\n",
    "    y_pred_list = list(y_pred)\n",
    "    y_pred_r = reverse_y_pred(y_pred_list)\n",
    "    fp,fn = fp_fn(y_pred_r,list(y_test))\n",
    "    tp = y_pred_list.count(0)\n",
    "    tn = y_pred_list.count(1)\n",
    "\n",
    "    y_pred_sklearn_dt_list = list(y_pred_sklearn_dt)\n",
    "    y_pred_scrlearn_dt_r = reverse_y_pred(y_pred_sklearn_dt)\n",
    "\n",
    "    fp_sklearn_dt,fn_sklearn_dt = fp_fn(y_pred_scrlearn_dt_r,y_test)\n",
    "    tp_sklearn_dt = y_pred_sklearn_dt_list.count(0)\n",
    "    tn_sklearn_dt = y_pred_sklearn_dt_list.count(1)\n",
    "\n",
    "    recall = tp/(tp+fn)\n",
    "    recall_sklearn_dt = tp_sklearn_dt/(tp_sklearn_dt+fn_sklearn_dt)\n",
    "    return recall,recall_sklearn_dt\n",
    "\n",
    "# recall,recall_sklearn_dt = my_recall(y_pred,y_pred_sklearn_dt,y_test)\n",
    "\n",
    "# pd.DataFrame([[recall, recall_sklearn_dt]],\n",
    "#             ['Recall'],    \n",
    "#             ['Our Implementation', 'Sklearn\\'s Implementation'])"
   ]
  },
  {
   "attachments": {},
   "cell_type": "markdown",
   "metadata": {},
   "source": [
    "# F1 SCORE"
   ]
  },
  {
   "cell_type": "code",
   "execution_count": 55,
   "metadata": {},
   "outputs": [],
   "source": [
    "def my_f1_score(y_pred,y_pred_sklearn_dt,y_test):\n",
    "    precision,precision_sklearn_dt = my_precision(y_pred,y_pred_sklearn_dt,y_test)\n",
    "    recall,recall_sklearn_dt = my_recall(y_pred,y_pred_sklearn_dt,y_test)\n",
    "    \n",
    "    f1score = 2*(precision*recall)/(precision+recall)\n",
    "    f1score_sklearn_dt = 2*(precision_sklearn_dt*recall_sklearn_dt)/(precision_sklearn_dt+recall_sklearn_dt)\n",
    "\n",
    "    return f1score,f1score_sklearn_dt\n",
    "\n",
    "# f1score,f1score_sklearn_dt = my_f1_score(y_pred,y_pred_sklearn_dt,y_test)\n",
    "# pd.DataFrame([[f1score, f1score_sklearn_dt]],\n",
    "#                 ['F1 SCORE'],    \n",
    "#                 ['Our Implementation', 'Sklearn\\'s Implementation'])"
   ]
  },
  {
   "attachments": {},
   "cell_type": "markdown",
   "metadata": {},
   "source": [
    "## ROC (Receiver Operating Characteristic)"
   ]
  },
  {
   "cell_type": "code",
   "execution_count": 56,
   "metadata": {},
   "outputs": [],
   "source": [
    "from sklearn.metrics import roc_curve, roc_auc_score\n",
    "import matplotlib.pyplot as plt\n",
    "\n",
    "def roc(y_pred,y_pred_sklearn_dt,y_test):\n",
    "    fpr, tpr, umbrales = roc_curve(y_test, y_pred)\n",
    "\n",
    "    auc = roc_auc_score(y_test, y_pred)\n",
    "\n",
    "    plt.plot(fpr, tpr, label='ROC (AUC = {:.2f})'.format(auc))\n",
    "    plt.plot([0, 1], [0, 1], 'r--', label='Random Classifier')\n",
    "    plt.xlabel('False Positive (FPR)')\n",
    "    plt.ylabel('True Positive (TPR)')\n",
    "    plt.title('ROC our implementation')\n",
    "    plt.legend(loc='lower right')\n",
    "    plt.show()\n",
    "\n",
    "    fpr, tpr, umbrales = roc_curve(y_test, y_pred_sklearn_dt)\n",
    "\n",
    "    auc_sklearn_dt = roc_auc_score(y_test, y_pred_sklearn_dt)\n",
    "\n",
    "    plt.plot(fpr, tpr, label='ROC (AUC = {:.2f})'.format(auc_sklearn_dt))\n",
    "    plt.plot([0, 1], [0, 1], 'r--', label='Random Classifier')\n",
    "    plt.xlabel('False Positive (FPR)')\n",
    "    plt.ylabel('True Positive (TPR)')\n",
    "    plt.title('ROC scikitlearn implementation')\n",
    "    plt.legend(loc='lower right')\n",
    "    plt.show()"
   ]
  },
  {
   "attachments": {},
   "cell_type": "markdown",
   "metadata": {},
   "source": [
    "## AUC (Area Under the Curve)"
   ]
  },
  {
   "cell_type": "code",
   "execution_count": 57,
   "metadata": {},
   "outputs": [],
   "source": [
    "from sklearn.metrics import roc_auc_score\n",
    "\n",
    "def auc(y_pred,y_pred_sklearn_dt,y_test):\n",
    "    auc = roc_auc_score(y_test, y_pred)\n",
    "    auc_sklearn_dt = roc_auc_score(y_test, y_pred_sklearn_dt)\n",
    "    return auc,auc_sklearn_dt\n",
    "\n",
    "# pd.DataFrame([[auc, auc_sklearn_dt]],\n",
    "#              ['AUC'],    \n",
    "#              ['Our Implementation', 'Sklearn\\'s Implementation'])"
   ]
  },
  {
   "attachments": {},
   "cell_type": "markdown",
   "metadata": {},
   "source": [
    "# Score"
   ]
  },
  {
   "cell_type": "code",
   "execution_count": 58,
   "metadata": {},
   "outputs": [],
   "source": [
    "def score(y_pred, y_test):        \n",
    "    return float(sum(y_pred == y_test))/ float(len(y_test))"
   ]
  },
  {
   "attachments": {},
   "cell_type": "markdown",
   "metadata": {},
   "source": [
    "# Stratify"
   ]
  },
  {
   "cell_type": "code",
   "execution_count": 59,
   "metadata": {},
   "outputs": [
    {
     "name": "stdout",
     "output_type": "stream",
     "text": [
      "METRIC\n",
      "ACCURACY\n",
      "          Our Implementation 1  Sklearn's Implementation 1\n",
      "accuracy              0.737069                    0.724576\n",
      "          Our Implementation 2  Sklearn's Implementation 2\n",
      "accuracy              0.730769                    0.730769\n",
      "          Our Implementation 3  Sklearn's Implementation 3\n",
      "accuracy               0.74026                    0.746725\n",
      "          Our Implementation 4  Sklearn's Implementation 4\n",
      "accuracy              0.733906                    0.733906\n",
      "          Our Implementation 5  Sklearn's Implementation 5\n",
      "accuracy              0.746725                    0.737069\n",
      "PRECISION\n",
      "           Our Implementation 1  Sklearn's Implementation 1\n",
      "precision               0.78169                    0.851562\n",
      "           Our Implementation 2  Sklearn's Implementation 2\n",
      "precision              0.773973                    0.844961\n",
      "           Our Implementation 3  Sklearn's Implementation 3\n",
      "precision              0.780822                    0.833333\n",
      "           Our Implementation 4  Sklearn's Implementation 4\n",
      "precision              0.776224                    0.844961\n",
      "           Our Implementation 5  Sklearn's Implementation 5\n",
      "precision              0.788732                    0.834646\n",
      "RECALL\n",
      "        Our Implementation 1  Sklearn's Implementation 1\n",
      "recall              0.787234                    0.652632\n",
      "        Our Implementation 2  Sklearn's Implementation 2\n",
      "recall               0.79021                    0.659574\n",
      "        Our Implementation 3  Sklearn's Implementation 3\n",
      "recall              0.802817                    0.677778\n",
      "        Our Implementation 4  Sklearn's Implementation 4\n",
      "recall              0.787234                    0.666667\n",
      "        Our Implementation 5  Sklearn's Implementation 5\n",
      "recall                   0.8                    0.677083\n",
      "F1 Score\n",
      "          Our Implementation 1  Sklearn's Implementation 1\n",
      "f1 score              0.784452                    0.738943\n",
      "          Our Implementation 2  Sklearn's Implementation 2\n",
      "f1 score              0.782007                    0.740846\n",
      "          Our Implementation 3  Sklearn's Implementation 3\n",
      "f1 score              0.791667                    0.747549\n",
      "          Our Implementation 4  Sklearn's Implementation 4\n",
      "f1 score               0.78169                    0.745299\n",
      "          Our Implementation 5  Sklearn's Implementation 5\n",
      "f1 score              0.794326                    0.747653\n"
     ]
    }
   ],
   "source": [
    "from sklearn.model_selection import StratifiedKFold, train_test_split\n",
    "from sklearn.tree import DecisionTreeClassifier as sklearn_dt_model\n",
    "\n",
    "skfolds = StratifiedKFold(n_splits=5)\n",
    "splits = skfolds.split(x, y)\n",
    "\n",
    "skfolds1 = StratifiedKFold(n_splits=5)\n",
    "splits1 = skfolds1.split(x, y)\n",
    "\n",
    "our_y_pred_list = []\n",
    "sklearn_y_pred_list = []\n",
    "\n",
    "for i, (train_index, test_index) in enumerate(splits):\n",
    "    x_train, x_test, y_train, y_test = train_test_split(\n",
    "        x[train_index], y[train_index], test_size=0.3, stratify=y[train_index])\n",
    "    dt_model = DecisionTreeClassifier(max_depth=best_params['max_depth'],bunch=selected_bunch)\n",
    "    dt_model.fit(x_train, y_train)\n",
    "    our_y_pred_list += [dt_model.predict(X_test)]\n",
    "\n",
    "for i, (train_index, test_index) in enumerate(splits1):\n",
    "    x_train, x_test, y_train, y_test = train_test_split(\n",
    "        x[train_index], y[train_index], test_size=0.3, stratify=y[train_index])\n",
    "    sk_dt_model = sklearn_dt_model(max_depth=best_params['max_depth'])\n",
    "    sk_dt_model.fit(x_train, y_train)\n",
    "    sklearn_y_pred_list += [sk_dt_model.predict(X_test)]\n",
    "\n",
    "# for i in our_y_pred_list:\n",
    "#     print(i)\n",
    "\n",
    "# for j in sklearn_y_pred_list:\n",
    "#     print(j)\n",
    "\n",
    "print(\"METRIC\")\n",
    "\n",
    "total_list = []\n",
    "for i in range(len(our_y_pred_list)):\n",
    "    total_list += [[our_y_pred_list[i],sklearn_y_pred_list[i]]]\n",
    "\n",
    "\n",
    "print(\"ACCURACY\")\n",
    "for i in range(len(total_list)):\n",
    "    accuracy,accuracy_sklearn_dt = my_accuracy(total_list[i][0],total_list[i][1],y_test)\n",
    "    print(pd.DataFrame([[accuracy, accuracy_sklearn_dt]],\n",
    "            ['accuracy'],    \n",
    "            ['Our Implementation '+str(i+1), 'Sklearn\\'s Implementation '+str(i+1)]))\n",
    "    \n",
    "print(\"PRECISION\")\n",
    "for i in range(len(total_list)):\n",
    "    precision,precision_sklearn_dt = my_precision(total_list[i][0],total_list[i][1],y_test)\n",
    "    print(pd.DataFrame([[precision, precision_sklearn_dt]],\n",
    "            ['precision'],\n",
    "            ['Our Implementation '+str(i+1), 'Sklearn\\'s Implementation '+str(i+1)]))\n",
    "    \n",
    "print(\"RECALL\")\n",
    "for i in range(len(total_list)):\n",
    "    recall,recall_sklearn_dt = my_recall(total_list[i][0],total_list[i][1],y_test)\n",
    "    print(pd.DataFrame([[recall, recall_sklearn_dt]],\n",
    "            ['recall'],\n",
    "            ['Our Implementation '+str(i+1), 'Sklearn\\'s Implementation '+str(i+1)]))\n",
    "    \n",
    "print(\"F1 Score\")\n",
    "for i in range(len(total_list)):\n",
    "    f1score,f1score_sklearn_dt = my_f1_score(total_list[i][0],total_list[i][1],y_test)\n",
    "    print(pd.DataFrame([[f1score, f1score_sklearn_dt]],\n",
    "            ['f1 score'],\n",
    "            ['Our Implementation '+str(i+1), 'Sklearn\\'s Implementation '+str(i+1)]))\n",
    "    \n",
    "# for i in range(len(total_list)):\n",
    "#     roc(total_list[i][0],total_list[i][1],y_test)\n",
    "\n",
    "\n",
    "# print(\"AUC\")\n",
    "# for i in range(len(total_list)):\n",
    "#     auc1,auc_sklearn_dt = auc(total_list[i][0],total_list[i][1],y_test)\n",
    "#     print(pd.DataFrame([[auc1, auc_sklearn_dt]],\n",
    "#              ['AUC'],    \n",
    "#              ['Our Implementation ' +str(i), 'Sklearn\\'s Implementation '+str(i)]))\n",
    "    \n",
    "\n",
    "\n",
    "\n",
    "    \n",
    "\n",
    "\n",
    "\n",
    "\n",
    "\n"
   ]
  },
  {
   "attachments": {},
   "cell_type": "markdown",
   "metadata": {},
   "source": [
    "# Our Implementation y_pred"
   ]
  },
  {
   "cell_type": "code",
   "execution_count": 60,
   "metadata": {},
   "outputs": [],
   "source": [
    "X_train, X_test, y_train, y_test = train_test_split(x, y, test_size=0.30, random_state=45)"
   ]
  },
  {
   "cell_type": "code",
   "execution_count": 61,
   "metadata": {},
   "outputs": [
    {
     "name": "stdout",
     "output_type": "stream",
     "text": [
      "{'col': 'worst perimeter',\n",
      " 'cutoff': 117.7,\n",
      " 'index_col': 22,\n",
      " 'left': {'col': 'worst concave points',\n",
      "          'cutoff': 0.1359,\n",
      "          'index_col': 27,\n",
      "          'left': {'col': 'worst area',\n",
      "                   'cutoff': 787.9,\n",
      "                   'index_col': 23,\n",
      "                   'left': {'col': 'worst texture',\n",
      "                            'cutoff': 33.37,\n",
      "                            'index_col': 21,\n",
      "                            'left': {'val': 1},\n",
      "                            'right': {'col': 'worst texture',\n",
      "                                      'cutoff': 33.75,\n",
      "                                      'index_col': 21,\n",
      "                                      'left': {'val': 0},\n",
      "                                      'right': {'val': 1},\n",
      "                                      'val': 1.0},\n",
      "                            'val': 1.0},\n",
      "                   'right': {'col': 'worst texture',\n",
      "                             'cutoff': 27.66,\n",
      "                             'index_col': 21,\n",
      "                             'left': {'val': 1},\n",
      "                             'right': {'col': 'worst fractal dimension',\n",
      "                                       'cutoff': 0.06956,\n",
      "                                       'index_col': 29,\n",
      "                                       'left': {'val': 0},\n",
      "                                       'right': {'col': 'mean radius',\n",
      "                                                 'cutoff': 14.47,\n",
      "                                                 'index_col': 0,\n",
      "                                                 'left': {'val': 0},\n",
      "                                                 'right': {'val': 1},\n",
      "                                                 'val': 1.0},\n",
      "                                       'val': 0.0},\n",
      "                             'val': 1.0},\n",
      "                   'val': 1.0},\n",
      "          'right': {'col': 'worst texture',\n",
      "                    'cutoff': 27.95,\n",
      "                    'index_col': 21,\n",
      "                    'left': {'col': 'worst compactness',\n",
      "                             'cutoff': 0.3262,\n",
      "                             'index_col': 25,\n",
      "                             'left': {'val': 1},\n",
      "                             'right': {'col': 'mean smoothness',\n",
      "                                       'cutoff': 0.1091,\n",
      "                                       'index_col': 4,\n",
      "                                       'left': {'col': 'worst concavity',\n",
      "                                                'cutoff': 0.4858,\n",
      "                                                'index_col': 26,\n",
      "                                                'left': {'col': 'mean radius',\n",
      "                                                         'cutoff': 14.42,\n",
      "                                                         'index_col': 0,\n",
      "                                                         'left': {'val': 0},\n",
      "                                                         'right': {'val': 1},\n",
      "                                                         'val': 0.0},\n",
      "                                                'right': {'val': 1},\n",
      "                                                'val': 1.0},\n",
      "                                       'right': {'val': 0},\n",
      "                                       'val': 0.0},\n",
      "                             'val': 1.0},\n",
      "                    'right': {'val': 0},\n",
      "                    'val': 0.0},\n",
      "          'val': 1.0},\n",
      " 'right': {'col': 'mean smoothness',\n",
      "           'cutoff': 0.07497,\n",
      "           'index_col': 4,\n",
      "           'left': {'val': 1},\n",
      "           'right': {'val': 0},\n",
      "           'val': 0.0},\n",
      " 'val': 1.0}\n",
      "[0 0 0 1 1 1 1 1 1 1 1 0 1 1 1 0 1 1 1 1 1 1 1 1 0 1 1 1 0 1 1 1 1 0 1 1 1\n",
      " 1 0 0 0 1 1 0 1 1 1 0 1 1 1 1 0 1 1 0 1 1 0 1 1 1 1 1 1 1 0 1 1 0 1 0 0 1\n",
      " 1 0 1 0 1 1 0 0 0 1 0 1 0 1 0 1 0 1 1 1 0 0 0 1 1 1 1 1 0 0 1 0 0 1 1 1 1\n",
      " 1 1 0 1 1 1 0 0 0 1 0 0 1 0 1 1 1 1 1 1 0 0 0 0 1 1 1 1 0 1 1 1 1 1 0 1 1\n",
      " 1 1 1 1 0 1 1 1 0 1 0 0 1 1 1 0 0 0 0 1 1 1 1]\n",
      "[1 0 0 1 1 1 1 1 1 1 1 0 1 1 1 0 0 1 1 1 1 1 1 1 0 1 1 1 0 1 0 1 1 0 1 1 1\n",
      " 1 0 0 0 1 1 0 1 1 1 0 1 1 1 1 0 1 1 0 1 1 0 1 1 0 1 1 1 1 0 1 1 0 0 0 0 1\n",
      " 1 0 1 0 1 1 0 0 0 1 0 1 0 1 0 0 0 1 1 1 0 0 0 1 1 1 1 1 0 0 1 0 0 1 1 1 1\n",
      " 1 0 0 1 1 1 0 0 0 1 0 0 1 1 1 1 1 1 1 1 0 0 0 0 1 1 1 0 1 1 1 1 1 1 0 1 1\n",
      " 1 1 1 1 0 1 1 1 0 1 0 0 1 1 1 0 0 0 0 1 1 1 1]\n"
     ]
    }
   ],
   "source": [
    "dt_model = DecisionTreeClassifier(max_depth=best_params['max_depth'],bunch=selected_bunch)\n",
    "\n",
    "t1 = time.time()\n",
    "tree = dt_model.fit(X_train, y_train)\n",
    "t2 = time.time()\n",
    "\n",
    "tp_tree = t2-t1\n",
    "\n",
    "pprint(tree)\n",
    "\n",
    "X_train.shape\n",
    "\n",
    "y_pred = dt_model.predict(X_test)\n",
    "print(y_pred)\n",
    "print(y_test)"
   ]
  },
  {
   "attachments": {},
   "cell_type": "markdown",
   "metadata": {},
   "source": [
    "# Scikit Learn Model y_pred_sklearn_dt"
   ]
  },
  {
   "cell_type": "code",
   "execution_count": 62,
   "metadata": {},
   "outputs": [
    {
     "name": "stdout",
     "output_type": "stream",
     "text": [
      "[0 0 0 1 1 1 1 1 1 1 1 0 1 1 1 0 1 1 1 1 1 1 1 1 0 1 1 1 0 1 1 1 0 0 1 1 1\n",
      " 1 0 0 0 1 1 0 1 1 1 0 1 1 1 1 0 1 1 0 1 1 0 1 1 1 1 1 0 0 0 1 1 0 1 0 0 1\n",
      " 1 0 1 0 1 1 0 1 0 1 0 0 0 1 0 0 0 1 1 1 0 0 0 1 1 1 1 1 0 0 1 0 0 1 1 1 1\n",
      " 1 0 0 1 1 1 0 0 0 1 0 0 1 0 1 1 1 1 1 1 0 0 0 0 1 1 1 1 1 1 1 1 1 1 0 1 1\n",
      " 1 1 1 1 0 1 1 1 0 1 0 0 1 1 1 0 0 0 0 1 1 1 1]\n",
      "[1 0 0 1 1 1 1 1 1 1 1 0 1 1 1 0 0 1 1 1 1 1 1 1 0 1 1 1 0 1 0 1 1 0 1 1 1\n",
      " 1 0 0 0 1 1 0 1 1 1 0 1 1 1 1 0 1 1 0 1 1 0 1 1 0 1 1 1 1 0 1 1 0 0 0 0 1\n",
      " 1 0 1 0 1 1 0 0 0 1 0 1 0 1 0 0 0 1 1 1 0 0 0 1 1 1 1 1 0 0 1 0 0 1 1 1 1\n",
      " 1 0 0 1 1 1 0 0 0 1 0 0 1 1 1 1 1 1 1 1 0 0 0 0 1 1 1 0 1 1 1 1 1 1 0 1 1\n",
      " 1 1 1 1 0 1 1 1 0 1 0 0 1 1 1 0 0 0 0 1 1 1 1]\n",
      "[0.00533555 0.         0.         0.         0.         0.01862592\n",
      " 0.         0.02791804 0.         0.         0.         0.02454353\n",
      " 0.         0.         0.         0.         0.01004339 0.\n",
      " 0.         0.         0.         0.05263941 0.70800715 0.025728\n",
      " 0.         0.         0.         0.12245118 0.         0.00470784]\n",
      "['mean radius', 'mean compactness', 'mean concave points', 'texture error', 'concavity error', 'worst texture', 'worst perimeter', 'worst area', 'worst concave points', 'worst fractal dimension']\n"
     ]
    }
   ],
   "source": [
    "from sklearn.tree import DecisionTreeClassifier as sklearn_dt_model\n",
    "\n",
    "sklearn_dt_model = sklearn_dt_model(max_depth=best_params['max_depth'])\n",
    "t1_sc = time.time()\n",
    "sklearn_dt_model.fit(X_train, y_train)\n",
    "t2_sc = time.time()\n",
    "\n",
    "tp_sc_tree = t2_sc-t1_sc\n",
    "\n",
    "y_pred_sklearn_dt = sklearn_dt_model.predict(X_test)\n",
    "print(y_pred_sklearn_dt)\n",
    "print(y_test)\n",
    "print(sklearn_dt_model.feature_importances_)\n",
    "index_list = np.nonzero(sklearn_dt_model.feature_importances_)[0]\n",
    "\n",
    "print([breast_cancer.feature_names[i] for i in index_list])"
   ]
  },
  {
   "attachments": {},
   "cell_type": "markdown",
   "metadata": {},
   "source": [
    "# Metric"
   ]
  },
  {
   "attachments": {},
   "cell_type": "markdown",
   "metadata": {},
   "source": [
    "### Score"
   ]
  },
  {
   "cell_type": "code",
   "execution_count": 63,
   "metadata": {},
   "outputs": [
    {
     "data": {
      "text/html": [
       "<div>\n",
       "<style scoped>\n",
       "    .dataframe tbody tr th:only-of-type {\n",
       "        vertical-align: middle;\n",
       "    }\n",
       "\n",
       "    .dataframe tbody tr th {\n",
       "        vertical-align: top;\n",
       "    }\n",
       "\n",
       "    .dataframe thead th {\n",
       "        text-align: right;\n",
       "    }\n",
       "</style>\n",
       "<table border=\"1\" class=\"dataframe\">\n",
       "  <thead>\n",
       "    <tr style=\"text-align: right;\">\n",
       "      <th></th>\n",
       "      <th>Our Implementation</th>\n",
       "      <th>Sklearn's Implementation</th>\n",
       "    </tr>\n",
       "  </thead>\n",
       "  <tbody>\n",
       "    <tr>\n",
       "      <th>Score</th>\n",
       "      <td>0.941520</td>\n",
       "      <td>0.929825</td>\n",
       "    </tr>\n",
       "    <tr>\n",
       "      <th>Fit time</th>\n",
       "      <td>6.956949</td>\n",
       "      <td>0.004997</td>\n",
       "    </tr>\n",
       "  </tbody>\n",
       "</table>\n",
       "</div>"
      ],
      "text/plain": [
       "          Our Implementation  Sklearn's Implementation\n",
       "Score               0.941520                  0.929825\n",
       "Fit time            6.956949                  0.004997"
      ]
     },
     "execution_count": 63,
     "metadata": {},
     "output_type": "execute_result"
    }
   ],
   "source": [
    "\n",
    "pd.DataFrame([[score(y_pred, y_test), score(y_pred_sklearn_dt,y_test)],[tp_tree,tp_sc_tree]],\n",
    "             ['Score',\"Fit time\"],    \n",
    "             ['Our Implementation', 'Sklearn\\'s Implementation'])"
   ]
  },
  {
   "attachments": {},
   "cell_type": "markdown",
   "metadata": {},
   "source": [
    "### Accuracy"
   ]
  },
  {
   "cell_type": "code",
   "execution_count": 64,
   "metadata": {},
   "outputs": [
    {
     "data": {
      "text/html": [
       "<div>\n",
       "<style scoped>\n",
       "    .dataframe tbody tr th:only-of-type {\n",
       "        vertical-align: middle;\n",
       "    }\n",
       "\n",
       "    .dataframe tbody tr th {\n",
       "        vertical-align: top;\n",
       "    }\n",
       "\n",
       "    .dataframe thead th {\n",
       "        text-align: right;\n",
       "    }\n",
       "</style>\n",
       "<table border=\"1\" class=\"dataframe\">\n",
       "  <thead>\n",
       "    <tr style=\"text-align: right;\">\n",
       "      <th></th>\n",
       "      <th>Our Implementation</th>\n",
       "      <th>Sklearn's Implementation</th>\n",
       "    </tr>\n",
       "  </thead>\n",
       "  <tbody>\n",
       "    <tr>\n",
       "      <th>accuracy</th>\n",
       "      <td>0.944751</td>\n",
       "      <td>0.934426</td>\n",
       "    </tr>\n",
       "  </tbody>\n",
       "</table>\n",
       "</div>"
      ],
      "text/plain": [
       "          Our Implementation  Sklearn's Implementation\n",
       "accuracy            0.944751                  0.934426"
      ]
     },
     "execution_count": 64,
     "metadata": {},
     "output_type": "execute_result"
    }
   ],
   "source": [
    "accuracy,accuracy_sklearn_dt = my_accuracy(y_pred,y_pred_sklearn_dt,y_test)\n",
    "pd.DataFrame([[accuracy, accuracy_sklearn_dt]],\n",
    "            ['accuracy'],    \n",
    "            ['Our Implementation', 'Sklearn\\'s Implementation'])"
   ]
  },
  {
   "attachments": {},
   "cell_type": "markdown",
   "metadata": {},
   "source": [
    "### Precision"
   ]
  },
  {
   "cell_type": "code",
   "execution_count": 65,
   "metadata": {},
   "outputs": [
    {
     "data": {
      "text/html": [
       "<div>\n",
       "<style scoped>\n",
       "    .dataframe tbody tr th:only-of-type {\n",
       "        vertical-align: middle;\n",
       "    }\n",
       "\n",
       "    .dataframe tbody tr th {\n",
       "        vertical-align: top;\n",
       "    }\n",
       "\n",
       "    .dataframe thead th {\n",
       "        text-align: right;\n",
       "    }\n",
       "</style>\n",
       "<table border=\"1\" class=\"dataframe\">\n",
       "  <thead>\n",
       "    <tr style=\"text-align: right;\">\n",
       "      <th></th>\n",
       "      <th>Our Implementation</th>\n",
       "      <th>Sklearn's Implementation</th>\n",
       "    </tr>\n",
       "  </thead>\n",
       "  <tbody>\n",
       "    <tr>\n",
       "      <th>Precision</th>\n",
       "      <td>0.942149</td>\n",
       "      <td>0.666667</td>\n",
       "    </tr>\n",
       "  </tbody>\n",
       "</table>\n",
       "</div>"
      ],
      "text/plain": [
       "           Our Implementation  Sklearn's Implementation\n",
       "Precision            0.942149                  0.666667"
      ]
     },
     "execution_count": 65,
     "metadata": {},
     "output_type": "execute_result"
    }
   ],
   "source": [
    "precision,precision_sklearn_dt = my_precision(y_pred,y_pred_sklearn_dt,y_test)\n",
    "pd.DataFrame([[precision, precision_sklearn_dt]],\n",
    "            ['Precision'],    \n",
    "            ['Our Implementation', 'Sklearn\\'s Implementation'])"
   ]
  },
  {
   "attachments": {},
   "cell_type": "markdown",
   "metadata": {},
   "source": [
    "### Recall"
   ]
  },
  {
   "cell_type": "code",
   "execution_count": 66,
   "metadata": {},
   "outputs": [
    {
     "data": {
      "text/html": [
       "<div>\n",
       "<style scoped>\n",
       "    .dataframe tbody tr th:only-of-type {\n",
       "        vertical-align: middle;\n",
       "    }\n",
       "\n",
       "    .dataframe tbody tr th {\n",
       "        vertical-align: top;\n",
       "    }\n",
       "\n",
       "    .dataframe thead th {\n",
       "        text-align: right;\n",
       "    }\n",
       "</style>\n",
       "<table border=\"1\" class=\"dataframe\">\n",
       "  <thead>\n",
       "    <tr style=\"text-align: right;\">\n",
       "      <th></th>\n",
       "      <th>Our Implementation</th>\n",
       "      <th>Sklearn's Implementation</th>\n",
       "    </tr>\n",
       "  </thead>\n",
       "  <tbody>\n",
       "    <tr>\n",
       "      <th>Recall</th>\n",
       "      <td>0.974359</td>\n",
       "      <td>0.910448</td>\n",
       "    </tr>\n",
       "  </tbody>\n",
       "</table>\n",
       "</div>"
      ],
      "text/plain": [
       "        Our Implementation  Sklearn's Implementation\n",
       "Recall            0.974359                  0.910448"
      ]
     },
     "execution_count": 66,
     "metadata": {},
     "output_type": "execute_result"
    }
   ],
   "source": [
    "recall,recall_sklearn_dt = my_recall(y_pred,y_pred_sklearn_dt,y_test)\n",
    "\n",
    "pd.DataFrame([[recall, recall_sklearn_dt]],\n",
    "            ['Recall'],    \n",
    "            ['Our Implementation', 'Sklearn\\'s Implementation'])"
   ]
  },
  {
   "attachments": {},
   "cell_type": "markdown",
   "metadata": {},
   "source": [
    "### F1 Score"
   ]
  },
  {
   "cell_type": "code",
   "execution_count": 67,
   "metadata": {},
   "outputs": [
    {
     "data": {
      "text/html": [
       "<div>\n",
       "<style scoped>\n",
       "    .dataframe tbody tr th:only-of-type {\n",
       "        vertical-align: middle;\n",
       "    }\n",
       "\n",
       "    .dataframe tbody tr th {\n",
       "        vertical-align: top;\n",
       "    }\n",
       "\n",
       "    .dataframe thead th {\n",
       "        text-align: right;\n",
       "    }\n",
       "</style>\n",
       "<table border=\"1\" class=\"dataframe\">\n",
       "  <thead>\n",
       "    <tr style=\"text-align: right;\">\n",
       "      <th></th>\n",
       "      <th>Our Implementation</th>\n",
       "      <th>Sklearn's Implementation</th>\n",
       "    </tr>\n",
       "  </thead>\n",
       "  <tbody>\n",
       "    <tr>\n",
       "      <th>F1 SCORE</th>\n",
       "      <td>0.957983</td>\n",
       "      <td>0.769716</td>\n",
       "    </tr>\n",
       "  </tbody>\n",
       "</table>\n",
       "</div>"
      ],
      "text/plain": [
       "          Our Implementation  Sklearn's Implementation\n",
       "F1 SCORE            0.957983                  0.769716"
      ]
     },
     "execution_count": 67,
     "metadata": {},
     "output_type": "execute_result"
    }
   ],
   "source": [
    "f1score,f1score_sklearn_dt = my_f1_score(y_pred,y_pred_sklearn_dt,y_test)\n",
    "pd.DataFrame([[f1score, f1score_sklearn_dt]],\n",
    "                ['F1 SCORE'],    \n",
    "                ['Our Implementation', 'Sklearn\\'s Implementation'])"
   ]
  },
  {
   "attachments": {},
   "cell_type": "markdown",
   "metadata": {},
   "source": [
    "#### ROC (Receiver Operating Characteristic)"
   ]
  },
  {
   "cell_type": "code",
   "execution_count": 68,
   "metadata": {},
   "outputs": [
    {
     "data": {
      "image/png": "[encoded data removed]",
      "text/plain": [
       "<Figure size 640x480 with 1 Axes>"
      ]
     },
     "metadata": {},
     "output_type": "display_data"
    },
    {
     "data": {
      "image/png": "[encoded data removed]",
      "text/plain": [
       "<Figure size 640x480 with 1 Axes>"
      ]
     },
     "metadata": {},
     "output_type": "display_data"
    }
   ],
   "source": [
    "roc(y_pred,y_pred_sklearn_dt,y_test)"
   ]
  },
  {
   "attachments": {},
   "cell_type": "markdown",
   "metadata": {},
   "source": [
    "#### ROC (Receiver Operating Characteristic)"
   ]
  },
  {
   "cell_type": "code",
   "execution_count": 69,
   "metadata": {},
   "outputs": [
    {
     "data": {
      "text/html": [
       "<div>\n",
       "<style scoped>\n",
       "    .dataframe tbody tr th:only-of-type {\n",
       "        vertical-align: middle;\n",
       "    }\n",
       "\n",
       "    .dataframe tbody tr th {\n",
       "        vertical-align: top;\n",
       "    }\n",
       "\n",
       "    .dataframe thead th {\n",
       "        text-align: right;\n",
       "    }\n",
       "</style>\n",
       "<table border=\"1\" class=\"dataframe\">\n",
       "  <thead>\n",
       "    <tr style=\"text-align: right;\">\n",
       "      <th></th>\n",
       "      <th>Our Implementation</th>\n",
       "      <th>Sklearn's Implementation</th>\n",
       "    </tr>\n",
       "  </thead>\n",
       "  <tbody>\n",
       "    <tr>\n",
       "      <th>AUC</th>\n",
       "      <td>0.928987</td>\n",
       "      <td>0.076453</td>\n",
       "    </tr>\n",
       "  </tbody>\n",
       "</table>\n",
       "</div>"
      ],
      "text/plain": [
       "     Our Implementation  Sklearn's Implementation\n",
       "AUC            0.928987                  0.076453"
      ]
     },
     "execution_count": 69,
     "metadata": {},
     "output_type": "execute_result"
    }
   ],
   "source": [
    "auc,auc_sklearn_dt = auc(y_pred,y_pred_sklearn_dt,y_test)\n",
    "\n",
    "pd.DataFrame([[auc, auc_sklearn_dt]],\n",
    "             ['AUC'],    \n",
    "             ['Our Implementation', 'Sklearn\\'s Implementation'])"
   ]
  }
 ],
 "metadata": {
  "kernelspec": {
   "display_name": "Python 3",
   "language": "python",
   "name": "python3"
  },
  "language_info": {
   "codemirror_mode": {
    "name": "ipython",
    "version": 3
   },
   "file_extension": ".py",
   "mimetype": "text/x-python",
   "name": "python",
   "nbconvert_exporter": "python",
   "pygments_lexer": "ipython3",
   "version": "3.11.3"
  },
  "orig_nbformat": 4
 },
 "nbformat": 4,
 "nbformat_minor": 2
}
