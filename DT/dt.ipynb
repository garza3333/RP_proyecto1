{
 "cells": [
  {
   "attachments": {},
   "cell_type": "markdown",
   "metadata": {},
   "source": [
    "# Decision Tree"
   ]
  },
  {
   "attachments": {},
   "cell_type": "markdown",
   "metadata": {},
   "source": [
    "### Importing libraries"
   ]
  },
  {
   "cell_type": "code",
   "execution_count": 63,
   "metadata": {},
   "outputs": [],
   "source": [
    "# Calling the scikit learn datasets of forest covertypes\n",
    "import pandas as pd\n",
    "from sklearn.datasets import load_breast_cancer\n",
    "from sklearn.utils import Bunch\n",
    "pd.set_option('display.max_rows', None)  # Mostrar todas las filas\n",
    "pd.set_option('display.max_columns', None)  # Mostrar todas las columnas\n",
    "pd.set_option('display.width', None)  # No truncar las columnas"
   ]
  },
  {
   "attachments": {},
   "cell_type": "markdown",
   "metadata": {},
   "source": [
    "### Apliying feature engineering and selecting features on tree different datasets"
   ]
  },
  {
   "cell_type": "code",
   "execution_count": 64,
   "metadata": {},
   "outputs": [],
   "source": [
    "breast_cancer = load_breast_cancer()\n",
    "\n",
    "df = pd.DataFrame(breast_cancer.data, columns=breast_cancer.feature_names)\n",
    "#df['target'] = breast_cancer.target\n",
    "\n",
    "#print(df.head(30))\n",
    "f1 = df[[\"mean radius\",\"mean texture\",\"mean perimeter\",\"mean area\",\"mean smoothness\"]]\n",
    "f2 = df[[\"mean compactness\",\"mean concavity\",\"mean concave points\",\"mean symmetry\"]]\n",
    "f3 = df[[\"mean fractal dimension\",\"radius error\",\"texture error\",\"perimeter error\"]]\n",
    "f4 = df[[\"area error\",\"smoothness error\",\"compactness error\",\"concavity error\"]]\n",
    "f5 = df[[\"concave points error\",\"symmetry error\",\"fractal dimension error\"]]\n",
    "f6 = df[[\"worst radius\",\"worst texture\",\"worst perimeter\",\"worst area\"]]\n",
    "f7 = df[[\"worst smoothness\",\"worst compactness\",\"worst concavity\"]]\n",
    "f8 = df[[\"worst concave points\",\"worst symmetry\",\"worst fractal dimension\"]]\n",
    "\n",
    "#df = f1\n",
    "# Selecting columns\n",
    "# df = df[[]]\n",
    "data_dict = {'data': df.values, 'target': breast_cancer.target, 'feature_names': df.columns, 'target_names': breast_cancer.feature_names}\n",
    "\n",
    "breast_cancer = Bunch(**data_dict)\n",
    "#print(breast_cancer.target_names)\n",
    "#print(type(breast_cancer))\n",
    "#print(df.shape)\n",
    "#print(f1.head(30))\n",
    "#print(y)\n",
    "#print(df.iloc[50:101,:])\n",
    "#print(df)\n"
   ]
  },
  {
   "cell_type": "code",
   "execution_count": 65,
   "metadata": {},
   "outputs": [],
   "source": [
    "def switch_case(argument):\n",
    "    switcher = {\n",
    "        0: breast_cancer,\n",
    "        1: \"second bunch\",\n",
    "        2: \"third bunch\"\n",
    "    }\n",
    "    return switcher.get(argument, \"Invalid option\")\n",
    "\n",
    "selected_bunch = switch_case(0)\n",
    "\n",
    "x = breast_cancer.data\n",
    "y = breast_cancer.target"
   ]
  },
  {
   "cell_type": "code",
   "execution_count": 66,
   "metadata": {},
   "outputs": [],
   "source": [
    "import math\n",
    "import numpy as np\n",
    "from pprint import pprint\n",
    "from sklearn.model_selection import train_test_split\n",
    "\n",
    "def entropy_func(c, n):\n",
    "    return -(c*1.0/n)*math.log(c*1.0/n, 2)\n",
    "\n",
    "def entropy_cal(c1, c2):\n",
    "    #entropy between class 1 and 2\n",
    "    if c1== 0 or c2 == 0:  # when there is only one class in the group, entropy is 0\n",
    "        return 0\n",
    "    return entropy_func(c1, c1+c2) + entropy_func(c2, c1+c2)\n",
    "\n",
    "# One versus All\n",
    "# c1,c2,c3, .., cm\n",
    "# c1, *\n",
    "# c2, *\n",
    "# c3, *\n",
    "# ...\n",
    "# cm, *\n",
    "\n",
    "#each class versus the others\n",
    "def entropy_of_one_division(division): \n",
    "    s = 0\n",
    "    n = len(division)\n",
    "    classes = set(division)\n",
    "    for c in classes:   # for each class, get entropy\n",
    "        n_c = sum(division==c)\n",
    "        e = n_c*1.0/n * entropy_cal(sum(division==c), sum(division!=c)) # weighted avg\n",
    "        s += e\n",
    "    return s, n\n",
    "\n",
    "# The whole entropy\n",
    "def get_entropy(y_predict, y_real):\n",
    "    if len(y_predict) != len(y_real):\n",
    "        print('They have to be the same length')\n",
    "        return None\n",
    "    n = len(y_real)\n",
    "    s_true, n_true = entropy_of_one_division(y_real[y_predict]) # left hand side entropy\n",
    "    s_false, n_false = entropy_of_one_division(y_real[~y_predict]) # right hand side entropy\n",
    "    s = n_true*1.0/n * s_true + n_false*1.0/n * s_false # overall entropy, again weighted average\n",
    "    return s\n",
    "\n",
    "\n",
    "\n",
    "class DecisionTreeClassifier(object):\n",
    "    def __init__(self, max_depth,bunch):\n",
    "        self.depth = 0\n",
    "        self.bunch = bunch\n",
    "        self.max_depth = max_depth\n",
    "    \n",
    "    def fit(self, x, y, par_node={}, depth=0):\n",
    "        if par_node is None: \n",
    "            return None\n",
    "        elif len(y) == 0:\n",
    "            return None\n",
    "        elif self.all_same(y):\n",
    "            return {'val':y[0]}\n",
    "        elif depth >= self.max_depth:\n",
    "            return None\n",
    "        else: \n",
    "            col, cutoff, entropy = self.find_best_split_of_all(x, y)    # find one split given an information gain \n",
    "            y_left = y[x[:, col] < cutoff]\n",
    "            y_right = y[x[:, col] >= cutoff]\n",
    "            par_node = {'col': self.bunch.feature_names[col], 'index_col':col,\n",
    "                        'cutoff':cutoff,\n",
    "                       'val': np.round(np.mean(y))}\n",
    "            par_node['left'] = self.fit(x[x[:, col] < cutoff], y_left, {}, depth+1)\n",
    "            par_node['right'] = self.fit(x[x[:, col] >= cutoff], y_right, {}, depth+1)\n",
    "            self.depth += 1 \n",
    "            self.trees = par_node\n",
    "            return par_node\n",
    "    \n",
    "    #all features versus values, get best\n",
    "    def find_best_split_of_all(self, x, y):\n",
    "        #print(x.shape, y.shape)\n",
    "        col = None\n",
    "        min_entropy = 1\n",
    "        cutoff = None\n",
    "        for i, c in enumerate(x.T):\n",
    "            entropy, cur_cutoff = self.find_best_split(c, y)\n",
    "            if entropy == 0:    # find the first perfect cutoff. Stop Iterating\n",
    "                return i, cur_cutoff, entropy\n",
    "            elif entropy <= min_entropy:\n",
    "                min_entropy = entropy\n",
    "                col = i\n",
    "                cutoff = cur_cutoff\n",
    "        return col, cutoff, min_entropy\n",
    "    \n",
    "    #one feature versus values\n",
    "    def find_best_split(self, col, y):\n",
    "        min_entropy = 10\n",
    "        n = len(y)\n",
    "        for value in set(col):\n",
    "            y_predict = col < value #get which ones are less than\n",
    "            my_entropy = get_entropy(y_predict, y)\n",
    "            if my_entropy <= min_entropy:\n",
    "                min_entropy = my_entropy\n",
    "                cutoff = value\n",
    "        return min_entropy, cutoff\n",
    "    \n",
    "    def all_same(self, items):\n",
    "        return all(x == items[0] for x in items)\n",
    "                                           \n",
    "    def predict(self, x):\n",
    "        tree = self.trees\n",
    "        results = np.array([0]*len(x))\n",
    "        for i, c in enumerate(x):\n",
    "            results[i] = self._get_prediction(c)\n",
    "        return results\n",
    "    \n",
    "    def _get_prediction(self, row):\n",
    "        cur_layer = self.trees\n",
    "        while cur_layer.get('cutoff'):\n",
    "            if row[cur_layer['index_col']] < cur_layer['cutoff']:\n",
    "                cur_layer = cur_layer['left']\n",
    "            else:\n",
    "                cur_layer = cur_layer['right']\n",
    "        else:\n",
    "            return cur_layer.get('val')"
   ]
  },
  {
   "cell_type": "code",
   "execution_count": 67,
   "metadata": {},
   "outputs": [
    {
     "name": "stdout",
     "output_type": "stream",
     "text": [
      "{'col': 'mean perimeter',\n",
      " 'cutoff': 98.64,\n",
      " 'index_col': 2,\n",
      " 'left': {'col': 'mean perimeter',\n",
      "          'cutoff': 90.2,\n",
      "          'index_col': 2,\n",
      "          'left': {'col': 'mean smoothness',\n",
      "                   'cutoff': 0.1088,\n",
      "                   'index_col': 4,\n",
      "                   'left': {'col': 'mean texture',\n",
      "                            'cutoff': 20.28,\n",
      "                            'index_col': 1,\n",
      "                            'left': {'val': 1},\n",
      "                            'right': {'col': 'mean area',\n",
      "                                      'cutoff': 477.4,\n",
      "                                      'index_col': 3,\n",
      "                                      'left': {'val': 1},\n",
      "                                      'right': {'col': 'mean smoothness',\n",
      "                                                'cutoff': 0.09714,\n",
      "                                                'index_col': 4,\n",
      "                                                'left': {'col': 'mean area',\n",
      "                                                         'cutoff': 507.4,\n",
      "                                                         'index_col': 3,\n",
      "                                                         'left': None,\n",
      "                                                         'right': None,\n",
      "                                                         'val': 1.0},\n",
      "                                                'right': {'val': 0},\n",
      "                                                'val': 1.0},\n",
      "                                      'val': 1.0},\n",
      "                            'val': 1.0},\n",
      "                   'right': {'col': 'mean perimeter',\n",
      "                             'cutoff': 77.58,\n",
      "                             'index_col': 2,\n",
      "                             'left': {'col': 'mean texture',\n",
      "                                      'cutoff': 18.83,\n",
      "                                      'index_col': 1,\n",
      "                                      'left': {'val': 1},\n",
      "                                      'right': {'col': 'mean smoothness',\n",
      "                                                'cutoff': 0.1216,\n",
      "                                                'index_col': 4,\n",
      "                                                'left': {'val': 1},\n",
      "                                                'right': {'col': 'mean radius',\n",
      "                                                          'cutoff': 11.69,\n",
      "                                                          'index_col': 0,\n",
      "                                                          'left': {'val': 0},\n",
      "                                                          'right': {'val': 1},\n",
      "                                                          'val': 0.0},\n",
      "                                                'val': 1.0},\n",
      "                                      'val': 1.0},\n",
      "                             'right': {'col': 'mean radius',\n",
      "                                       'cutoff': 12.54,\n",
      "                                       'index_col': 0,\n",
      "                                       'left': {'val': 0},\n",
      "                                       'right': {'col': 'mean perimeter',\n",
      "                                                 'cutoff': 85.26,\n",
      "                                                 'index_col': 2,\n",
      "                                                 'left': {'val': 1},\n",
      "                                                 'right': {'val': 0},\n",
      "                                                 'val': 1.0},\n",
      "                                       'val': 0.0},\n",
      "                             'val': 1.0},\n",
      "                   'val': 1.0},\n",
      "          'right': {'col': 'mean smoothness',\n",
      "                    'cutoff': 0.09056,\n",
      "                    'index_col': 4,\n",
      "                    'left': {'col': 'mean texture',\n",
      "                             'cutoff': 29.81,\n",
      "                             'index_col': 1,\n",
      "                             'left': {'col': 'mean texture',\n",
      "                                      'cutoff': 23.29,\n",
      "                                      'index_col': 1,\n",
      "                                      'left': {'val': 1},\n",
      "                                      'right': {'col': 'mean texture',\n",
      "                                                'cutoff': 24.02,\n",
      "                                                'index_col': 1,\n",
      "                                                'left': {'val': 0},\n",
      "                                                'right': {'val': 1},\n",
      "                                                'val': 1.0},\n",
      "                                      'val': 1.0},\n",
      "                             'right': {'val': 0},\n",
      "                             'val': 1.0},\n",
      "                    'right': {'col': 'mean texture',\n",
      "                              'cutoff': 15.79,\n",
      "                              'index_col': 1,\n",
      "                              'left': {'val': 1},\n",
      "                              'right': {'col': 'mean smoothness',\n",
      "                                        'cutoff': 0.1007,\n",
      "                                        'index_col': 4,\n",
      "                                        'left': {'col': 'mean smoothness',\n",
      "                                                 'cutoff': 0.09587,\n",
      "                                                 'index_col': 4,\n",
      "                                                 'left': {'val': 0},\n",
      "                                                 'right': {'col': 'mean '\n",
      "                                                                  'smoothness',\n",
      "                                                           'cutoff': 0.09823,\n",
      "                                                           'index_col': 4,\n",
      "                                                           'left': {'val': 1},\n",
      "                                                           'right': None,\n",
      "                                                           'val': 0.0},\n",
      "                                                 'val': 0.0},\n",
      "                                        'right': {'val': 0},\n",
      "                                        'val': 0.0},\n",
      "                              'val': 0.0},\n",
      "                    'val': 1.0},\n",
      "          'val': 1.0},\n",
      " 'right': {'col': 'mean perimeter',\n",
      "           'cutoff': 108.8,\n",
      "           'index_col': 2,\n",
      "           'left': {'col': 'mean radius',\n",
      "                    'cutoff': 16.14,\n",
      "                    'index_col': 0,\n",
      "                    'left': {'col': 'mean texture',\n",
      "                             'cutoff': 14.26,\n",
      "                             'index_col': 1,\n",
      "                             'left': {'val': 1},\n",
      "                             'right': {'val': 0},\n",
      "                             'val': 0.0},\n",
      "                    'right': {'col': 'mean texture',\n",
      "                              'cutoff': 20.2,\n",
      "                              'index_col': 1,\n",
      "                              'left': {'val': 1},\n",
      "                              'right': {'val': 0},\n",
      "                              'val': 1.0},\n",
      "                    'val': 0.0},\n",
      "           'right': {'val': 0},\n",
      "           'val': 0.0},\n",
      " 'val': 1.0}\n"
     ]
    },
    {
     "data": {
      "text/plain": [
       "(426, 5)"
      ]
     },
     "execution_count": 67,
     "metadata": {},
     "output_type": "execute_result"
    }
   ],
   "source": [
    "X_train, X_test, y_train, y_test = train_test_split(x, y, test_size=0.25, random_state=45)\n",
    "\n",
    "model = DecisionTreeClassifier(max_depth=10,bunch=selected_bunch)\n",
    "tree = model.fit(X_train, y_train)\n",
    "\n",
    "pprint(tree)\n",
    "\n",
    "X_train.shape"
   ]
  },
  {
   "cell_type": "code",
   "execution_count": 69,
   "metadata": {},
   "outputs": [
    {
     "ename": "AttributeError",
     "evalue": "'NoneType' object has no attribute 'get'",
     "output_type": "error",
     "traceback": [
      "\u001b[1;31m---------------------------------------------------------------------------\u001b[0m",
      "\u001b[1;31mAttributeError\u001b[0m                            Traceback (most recent call last)",
      "\u001b[1;32mc:\\Users\\User\\Desktop\\RP_project1\\DT\\dt.ipynb Cell 9\u001b[0m in \u001b[0;36m1\n\u001b[1;32m----> <a href='vscode-notebook-cell:/c%3A/Users/User/Desktop/RP_project1/DT/dt.ipynb#W5sZmlsZQ%3D%3D?line=0'>1</a>\u001b[0m y_pred \u001b[39m=\u001b[39m model\u001b[39m.\u001b[39;49mpredict(X_test)\n\u001b[0;32m      <a href='vscode-notebook-cell:/c%3A/Users/User/Desktop/RP_project1/DT/dt.ipynb#W5sZmlsZQ%3D%3D?line=1'>2</a>\u001b[0m \u001b[39mprint\u001b[39m(y_pred)\n\u001b[0;32m      <a href='vscode-notebook-cell:/c%3A/Users/User/Desktop/RP_project1/DT/dt.ipynb#W5sZmlsZQ%3D%3D?line=2'>3</a>\u001b[0m \u001b[39mprint\u001b[39m(y_test)\n",
      "\u001b[1;32mc:\\Users\\User\\Desktop\\RP_project1\\DT\\dt.ipynb Cell 9\u001b[0m in \u001b[0;36m1\n\u001b[0;32m    <a href='vscode-notebook-cell:/c%3A/Users/User/Desktop/RP_project1/DT/dt.ipynb#W5sZmlsZQ%3D%3D?line=107'>108</a>\u001b[0m results \u001b[39m=\u001b[39m np\u001b[39m.\u001b[39marray([\u001b[39m0\u001b[39m]\u001b[39m*\u001b[39m\u001b[39mlen\u001b[39m(x))\n\u001b[0;32m    <a href='vscode-notebook-cell:/c%3A/Users/User/Desktop/RP_project1/DT/dt.ipynb#W5sZmlsZQ%3D%3D?line=108'>109</a>\u001b[0m \u001b[39mfor\u001b[39;00m i, c \u001b[39min\u001b[39;00m \u001b[39menumerate\u001b[39m(x):\n\u001b[1;32m--> <a href='vscode-notebook-cell:/c%3A/Users/User/Desktop/RP_project1/DT/dt.ipynb#W5sZmlsZQ%3D%3D?line=109'>110</a>\u001b[0m     results[i] \u001b[39m=\u001b[39m \u001b[39mself\u001b[39;49m\u001b[39m.\u001b[39;49m_get_prediction(c)\n\u001b[0;32m    <a href='vscode-notebook-cell:/c%3A/Users/User/Desktop/RP_project1/DT/dt.ipynb#W5sZmlsZQ%3D%3D?line=110'>111</a>\u001b[0m \u001b[39mreturn\u001b[39;00m results\n",
      "\u001b[1;32mc:\\Users\\User\\Desktop\\RP_project1\\DT\\dt.ipynb Cell 9\u001b[0m in \u001b[0;36m1\n\u001b[0;32m    <a href='vscode-notebook-cell:/c%3A/Users/User/Desktop/RP_project1/DT/dt.ipynb#W5sZmlsZQ%3D%3D?line=112'>113</a>\u001b[0m \u001b[39mdef\u001b[39;00m \u001b[39m_get_prediction\u001b[39m(\u001b[39mself\u001b[39m, row):\n\u001b[0;32m    <a href='vscode-notebook-cell:/c%3A/Users/User/Desktop/RP_project1/DT/dt.ipynb#W5sZmlsZQ%3D%3D?line=113'>114</a>\u001b[0m     cur_layer \u001b[39m=\u001b[39m \u001b[39mself\u001b[39m\u001b[39m.\u001b[39mtrees\n\u001b[1;32m--> <a href='vscode-notebook-cell:/c%3A/Users/User/Desktop/RP_project1/DT/dt.ipynb#W5sZmlsZQ%3D%3D?line=114'>115</a>\u001b[0m     \u001b[39mwhile\u001b[39;00m cur_layer\u001b[39m.\u001b[39;49mget(\u001b[39m'\u001b[39m\u001b[39mcutoff\u001b[39m\u001b[39m'\u001b[39m):\n\u001b[0;32m    <a href='vscode-notebook-cell:/c%3A/Users/User/Desktop/RP_project1/DT/dt.ipynb#W5sZmlsZQ%3D%3D?line=115'>116</a>\u001b[0m         \u001b[39mif\u001b[39;00m row[cur_layer[\u001b[39m'\u001b[39m\u001b[39mindex_col\u001b[39m\u001b[39m'\u001b[39m]] \u001b[39m<\u001b[39m cur_layer[\u001b[39m'\u001b[39m\u001b[39mcutoff\u001b[39m\u001b[39m'\u001b[39m]:\n\u001b[0;32m    <a href='vscode-notebook-cell:/c%3A/Users/User/Desktop/RP_project1/DT/dt.ipynb#W5sZmlsZQ%3D%3D?line=116'>117</a>\u001b[0m             cur_layer \u001b[39m=\u001b[39m cur_layer[\u001b[39m'\u001b[39m\u001b[39mleft\u001b[39m\u001b[39m'\u001b[39m]\n",
      "\u001b[1;31mAttributeError\u001b[0m: 'NoneType' object has no attribute 'get'"
     ]
    }
   ],
   "source": [
    "y_pred = model.predict(X_test)\n",
    "print(y_pred)\n",
    "print(y_test)"
   ]
  },
  {
   "cell_type": "code",
   "execution_count": 71,
   "metadata": {},
   "outputs": [
    {
     "data": {
      "text/plain": [
       "0.8671328671328671"
      ]
     },
     "execution_count": 71,
     "metadata": {},
     "output_type": "execute_result"
    }
   ],
   "source": [
    "def score(y_pred, y_test):        \n",
    "    return float(sum(y_pred == y_test))/ float(len(y_test))\n",
    "\n",
    "score(y_pred, y_test)"
   ]
  },
  {
   "attachments": {},
   "cell_type": "markdown",
   "metadata": {},
   "source": [
    "# Metricas"
   ]
  },
  {
   "attachments": {},
   "cell_type": "markdown",
   "metadata": {},
   "source": [
    "## Accuracy"
   ]
  },
  {
   "attachments": {},
   "cell_type": "markdown",
   "metadata": {},
   "source": [
    "## Precisión"
   ]
  },
  {
   "attachments": {},
   "cell_type": "markdown",
   "metadata": {},
   "source": [
    "## Recall"
   ]
  },
  {
   "attachments": {},
   "cell_type": "markdown",
   "metadata": {},
   "source": [
    "## AUC"
   ]
  },
  {
   "attachments": {},
   "cell_type": "markdown",
   "metadata": {},
   "source": [
    "## ROC"
   ]
  }
 ],
 "metadata": {
  "kernelspec": {
   "display_name": "Python 3",
   "language": "python",
   "name": "python3"
  },
  "language_info": {
   "codemirror_mode": {
    "name": "ipython",
    "version": 3
   },
   "file_extension": ".py",
   "mimetype": "text/x-python",
   "name": "python",
   "nbconvert_exporter": "python",
   "pygments_lexer": "ipython3",
   "version": "3.11.0"
  },
  "orig_nbformat": 4
 },
 "nbformat": 4,
 "nbformat_minor": 2
}
